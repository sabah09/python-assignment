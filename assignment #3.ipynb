{
 "cells": [
  {
   "cell_type": "code",
   "execution_count": 1,
   "metadata": {},
   "outputs": [
    {
     "name": "stdout",
     "output_type": "stream",
     "text": [
      "Enter Your first value6\n",
      "Enter Your Second value8\n",
      "Enter Operator**\n",
      "1679616 answer\n"
     ]
    }
   ],
   "source": [
    "# Calculator Coding is Start----->\n",
    "\n",
    "val1 =int(input(\"Enter Your first value\"))\n",
    "val2 =int(input(\"Enter Your Second value\"))\n",
    "operators = (input(\"Enter Operator\"))\n",
    "\n",
    "if operators == '+' :\n",
    "    val = val1 + val2\n",
    "    print(val,\"answer\")\n",
    "elif operators == '-':\n",
    "    val = val1 - val2\n",
    "    print(val,\"answer\")\n",
    "elif operators == '*':\n",
    "    val = val1 * val2\n",
    "    print(val,\"answer\")\n",
    "\n",
    "elif operators == '/':\n",
    "    val = val1 / val2\n",
    "    print(val,\"answer\")\n",
    "    \n",
    "elif operators == '%':\n",
    "    val = val1 % val2\n",
    "    print(val,\"answer\")\n",
    "    \n",
    "elif operators == '**':\n",
    "    val = val1 ** val2\n",
    "    print(val,\"answer\")\n",
    "else:\n",
    "    print(\"incorrect operator\")\n",
    "    \n",
    "# Calculator Coding -----is End---->"
   ]
  },
  {
   "cell_type": "code",
   "execution_count": 5,
   "metadata": {},
   "outputs": [
    {
     "name": "stdout",
     "output_type": "stream",
     "text": [
      "{'chocolates': 'white', 'biscuits': 'waffers', 'snacks': 'slaty', 'drink': 'pepsi'}\n"
     ]
    }
   ],
   "source": [
    "# Dictionary-----key----adding---- start->\n",
    "\n",
    "product ={\n",
    "    \"chocolates\" :\"white\",\n",
    "    \"biscuits\" : \"waffers\",\n",
    "    \"snacks\" : \"slaty\"\n",
    "    \n",
    "}\n",
    "product [\"drink\"] = \"pepsi\"\n",
    "print(product)\n",
    "\n",
    "# Dictionary-----key----adding---- start->\n"
   ]
  },
  {
   "cell_type": "code",
   "execution_count": 13,
   "metadata": {},
   "outputs": [
    {
     "name": "stdout",
     "output_type": "stream",
     "text": [
      "Attendence details of all the division\n",
      "{'A': 30, 'B': 44, 'C': 39, 'D': 34, 'E': 47}\n",
      "Total Attendance 194\n"
     ]
    }
   ],
   "source": [
    "# Dictionary-----Sum of all the items in----start--->\n",
    "\n",
    "details = {'A': 30, 'B': 44,'C': 39, 'D': 34, 'E': 47,}\n",
    "print(\"Attendence details of all the division\")\n",
    "print(details)\n",
    "\n",
    "tot=sum(details.values())\n",
    "print(\"Total Attendance\",tot)\n",
    "\n",
    "# Dictionary-----Sum of all the items in----end--->"
   ]
  },
  {
   "cell_type": "code",
   "execution_count": 18,
   "metadata": {},
   "outputs": [
    {
     "name": "stdout",
     "output_type": "stream",
     "text": [
      "3\n"
     ]
    }
   ],
   "source": [
    "list1= ['talha',1,3,4,6,7,4,]\n",
    "print(list1.index(4))"
   ]
  },
  {
   "cell_type": "code",
   "execution_count": 23,
   "metadata": {},
   "outputs": [
    {
     "name": "stdout",
     "output_type": "stream",
     "text": [
      "Enter The Key To Be Verified:Sabah\n",
      "Key Dosenot persent in the Dictionary\n"
     ]
    }
   ],
   "source": [
    "#Dictionary-----key is already Exiest in Dic---Start coding---->\n",
    "\n",
    "dic = {\"waqas\":445,\"kamran\": 446,\"junaid\":447,\"sabah\":448}\n",
    "user = input(\"Enter The Key To Be Verified:\")\n",
    "if user in dic.keys():\n",
    "    print(\"Key is Persent In The Dictionary\")\n",
    "    print(\"Value\", \":\",dic[user])\n",
    "else:\n",
    "    print(\"Key Dosenot persent in the Dictionary\")\n",
    "    \n",
    "#Dictionary-----key is already Exiest in Dic---end coding---->"
   ]
  },
  {
   "cell_type": "code",
   "execution_count": null,
   "metadata": {},
   "outputs": [],
   "source": [
    "\n",
    "\n"
   ]
  },
  {
   "cell_type": "code",
   "execution_count": null,
   "metadata": {},
   "outputs": [],
   "source": []
  }
 ],
 "metadata": {
  "kernelspec": {
   "display_name": "Python 3",
   "language": "python",
   "name": "python3"
  },
  "language_info": {
   "codemirror_mode": {
    "name": "ipython",
    "version": 3
   },
   "file_extension": ".py",
   "mimetype": "text/x-python",
   "name": "python",
   "nbconvert_exporter": "python",
   "pygments_lexer": "ipython3",
   "version": "3.7.4"
  }
 },
 "nbformat": 4,
 "nbformat_minor": 2
}
