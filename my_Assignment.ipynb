{
 "cells": [
  {
   "cell_type": "code",
   "execution_count": 1,
   "metadata": {},
   "outputs": [
    {
     "name": "stdout",
     "output_type": "stream",
     "text": [
      "Enter radius of a circle7.9\n",
      "Area of Cricle 195.96740000000003\n"
     ]
    }
   ],
   "source": [
    "#The Radius Of Circle From The user and Compute The Area\n",
    "\n",
    "r= float(input(\"Enter radius of a circle\"))\n",
    "area= 3.14*r*r\n",
    "print(\"Area of Cricle\",area)"
   ]
  },
  {
   "cell_type": "code",
   "execution_count": 2,
   "metadata": {},
   "outputs": [
    {
     "name": "stdout",
     "output_type": "stream",
     "text": [
      "11-19-03 16:49:49\n"
     ]
    }
   ],
   "source": [
    "import datetime \n",
    "now = datetime.datetime.now()\n",
    "print (now.strftime( \"%m-%y-%d %H:%M:%S\"))"
   ]
  },
  {
   "cell_type": "code",
   "execution_count": 4,
   "metadata": {},
   "outputs": [
    {
     "name": "stdout",
     "output_type": "stream",
     "text": [
      "python version 3.7.4 (default, Aug  9 2019, 18:34:13) [MSC v.1915 64 bit (AMD64)]\n"
     ]
    }
   ],
   "source": [
    "import sys\n",
    "system = \"python version\"\n",
    "print(system,sys.version)"
   ]
  },
  {
   "cell_type": "code",
   "execution_count": 6,
   "metadata": {},
   "outputs": [
    {
     "name": "stdout",
     "output_type": "stream",
     "text": [
      "khan sabah\n"
     ]
    }
   ],
   "source": [
    "firstname = \"sabah\"\n",
    "lastname = \"khan\"\n",
    "print(lastname + \" \" + firstname )"
   ]
  },
  {
   "cell_type": "code",
   "execution_count": 7,
   "metadata": {},
   "outputs": [
    {
     "name": "stdout",
     "output_type": "stream",
     "text": [
      "Enter Your Nametalha\n",
      "Enter Your age23\n",
      "talha 23\n"
     ]
    }
   ],
   "source": [
    "name = input(\"Enter Your Name\")\n",
    "age = input(\"Enter Your age\")\n",
    "print(name, age)"
   ]
  },
  {
   "cell_type": "code",
   "execution_count": 1,
   "metadata": {},
   "outputs": [
    {
     "name": "stdout",
     "output_type": "stream",
     "text": [
      "Twinkle,Twinkle,   little Star\n",
      "        How i Wonder, what your are!\n",
      "up above the,wolrd so high\n",
      "\n",
      "     Like A  Diamond In The Sky\n",
      "How i Wonder What Your Are\n"
     ]
    }
   ],
   "source": [
    "#Following Strings in a Specific Format\n",
    "\n",
    "line_1 = \"Twinkle,Twinkle,   little Star\"\n",
    "print(line_1)\n",
    "line_2 = \"        How i Wonder, what your are!\"\n",
    "print(line_2)\n",
    "line_3 =  \"up above the,wolrd so high\\n\"\n",
    "print(line_3)\n",
    "line_4 =  \"     Like A  Diamond In The Sky\"\n",
    "print(line_4)\n",
    "line_5  = \"How i Wonder What Your Are\"\n",
    "print(line_5)"
   ]
  },
  {
   "cell_type": "code",
   "execution_count": null,
   "metadata": {},
   "outputs": [],
   "source": []
  }
 ],
 "metadata": {
  "kernelspec": {
   "display_name": "Python 3",
   "language": "python",
   "name": "python3"
  },
  "language_info": {
   "codemirror_mode": {
    "name": "ipython",
    "version": 3
   },
   "file_extension": ".py",
   "mimetype": "text/x-python",
   "name": "python",
   "nbconvert_exporter": "python",
   "pygments_lexer": "ipython3",
   "version": "3.7.4"
  }
 },
 "nbformat": 4,
 "nbformat_minor": 2
}
