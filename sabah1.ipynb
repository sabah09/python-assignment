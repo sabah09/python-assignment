{
 "cells": [
  {
   "cell_type": "code",
   "execution_count": 1,
   "metadata": {},
   "outputs": [
    {
     "name": "stdout",
     "output_type": "stream",
     "text": [
      "SERIAL NO:144320\n",
      "                                 SECONDRY BOARD OF EDUCATION KARACHI\n",
      "                                      S.S.C EXAMINATION PART 1\n",
      "                                      STATEMENTS OF MARKS SHEET\n",
      "STUDENT NAME: SABAH KHAN NIAZI\n",
      "                                                                                ROLL NO:  8085 \n",
      "                                              SUBJECTS\n",
      "Enter Your Roll Number8085\n",
      "Enter Your Namesabah\n",
      "Enter Your English Marks55\n",
      "Enter Your Urdu Marks66\n",
      "Enter Your Islamiat Marks77\n",
      "Enter Your Math Marks88\n",
      "Enter Your pak_Studies 99\n",
      "GRADE B\n",
      "your Roll number 8085\n",
      "your name sabah\n",
      "your percentage 77.0\n"
     ]
    }
   ],
   "source": [
    "print(\"SERIAL NO:144320\")\n",
    "print(\"                                 SECONDRY BOARD OF EDUCATION KARACHI\")\n",
    "print(\"                                      S.S.C EXAMINATION PART 1\")      \n",
    "print(\"                                      STATEMENTS OF MARKS SHEET\") \n",
    "print(\"STUDENT NAME: SABAH KHAN NIAZI\")\n",
    "print(\"                                                                                ROLL NO:  8085 \")\n",
    "print(\"                                              SUBJECTS\")\n",
    "\n",
    "\n",
    "roll = int(input(\"Enter Your Roll Number\"))\n",
    "name = input(\"Enter Your Name\")\n",
    "english = int(input(\"Enter Your English Marks\"))\n",
    "urdu = int(input(\"Enter Your Urdu Marks\"))\n",
    "islamiat = int(input(\"Enter Your Islamiat Marks\"))\n",
    "math = int(input(\"Enter Your Math Marks\"))\n",
    "pak_studies = int(input(\"Enter Your pak_Studies \"))\n",
    "\n",
    "total=english+urdu+islamiat+math+pak_studies\n",
    "per=total*100/500\n",
    "\n",
    "if per >= 90 and per < 100:\n",
    "    print(\"GRADE A+\")\n",
    "elif per >= 80 and per < 90:\n",
    "    print(\"GRADE A\")\n",
    "elif per >= 70 and per < 80:\n",
    "    print(\"GRADE B\")\n",
    "elif per >= 60 and per < 70:\n",
    "    print(\"GRADE C\")\n",
    "elif per >= 50 and per < 60:\n",
    "    print(\"GRADE D\")\n",
    "elif per >= 40 and per < 50:\n",
    "    print(\"FAILED\")\n",
    "else:\n",
    "    print(\"inappropiate\")\n",
    "\n",
    "print(\"your Roll number\",roll)\n",
    "print(\"your name\",name)\n",
    "print(\"your percentage\",per)"
   ]
  },
  {
   "cell_type": "code",
   "execution_count": 2,
   "metadata": {},
   "outputs": [
    {
     "name": "stdout",
     "output_type": "stream",
     "text": [
      "ENTER YOUR NUMBER13\n",
      "13 is odd\n"
     ]
    }
   ],
   "source": [
    "#even and odd ---->\n",
    "num = int(input(\"ENTER YOUR NUMBER\"))\n",
    "if num %2==0:\n",
    "    print(num,\"is even\")\n",
    "else:\n",
    "    print(num,\"is odd\")"
   ]
  },
  {
   "cell_type": "code",
   "execution_count": 3,
   "metadata": {},
   "outputs": [
    {
     "name": "stdout",
     "output_type": "stream",
     "text": [
      "144\n"
     ]
    }
   ],
   "source": [
    "# sum of the list-->\n",
    "ourlist = [1,4,8,9,34,88]\n",
    "total = sum (ourlist)\n",
    "print(total)"
   ]
  },
  {
   "cell_type": "code",
   "execution_count": 4,
   "metadata": {},
   "outputs": [
    {
     "name": "stdout",
     "output_type": "stream",
     "text": [
      "178\n",
      "12\n"
     ]
    }
   ],
   "source": [
    "#lagerst numaric number--->\n",
    "num1 = [12,34,56,90,45,178]\n",
    "print(max(num1))\n",
    "print(min(num1))"
   ]
  },
  {
   "cell_type": "code",
   "execution_count": 42,
   "metadata": {},
   "outputs": [
    {
     "name": "stdout",
     "output_type": "stream",
     "text": [
      "10\n"
     ]
    }
   ],
   "source": [
    "#list lenght ---->\n",
    "list_a  = [4,5,6,7,8,90,33,5,7,6,]\n",
    "list_lenght = len(list_a)\n",
    "print(list_lenght)"
   ]
  },
  {
   "cell_type": "code",
   "execution_count": 2,
   "metadata": {},
   "outputs": [
    {
     "name": "stdout",
     "output_type": "stream",
     "text": [
      "[1]\n",
      "[1, 1]\n",
      "[1, 1, 2]\n",
      "[1, 1, 2, 3]\n",
      "[1, 1, 2, 3, 3]\n"
     ]
    }
   ],
   "source": [
    "#Q.6 answer\n",
    "a = [1,1,2,3,5,8,3,21,34,55,89]\n",
    "x =[]\n",
    "for i in a :\n",
    "    if i < 5:\n",
    "        x.append(i)\n",
    "        print(x)"
   ]
  },
  {
   "cell_type": "code",
   "execution_count": null,
   "metadata": {},
   "outputs": [],
   "source": []
  },
  {
   "cell_type": "code",
   "execution_count": null,
   "metadata": {},
   "outputs": [],
   "source": [
    "\n"
   ]
  }
 ],
 "metadata": {
  "kernelspec": {
   "display_name": "Python 3",
   "language": "python",
   "name": "python3"
  },
  "language_info": {
   "codemirror_mode": {
    "name": "ipython",
    "version": 3
   },
   "file_extension": ".py",
   "mimetype": "text/x-python",
   "name": "python",
   "nbconvert_exporter": "python",
   "pygments_lexer": "ipython3",
   "version": "3.7.4"
  }
 },
 "nbformat": 4,
 "nbformat_minor": 2
}
